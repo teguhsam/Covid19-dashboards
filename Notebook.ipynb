{
 "cells": [
  {
   "cell_type": "code",
   "execution_count": 69,
   "metadata": {},
   "outputs": [],
   "source": [
    "from datetime import date\n",
    "from import_dataset import download_json\n",
    "from other_functions import *\n",
    "import pandas as pd\n",
    "import matplotlib.pyplot as plt\n",
    "import json"
   ]
  },
  {
   "cell_type": "code",
   "execution_count": 70,
   "metadata": {},
   "outputs": [
    {
     "name": "stdout",
     "output_type": "stream",
     "text": [
      "Datasets folder already exists!\n",
      "True\n"
     ]
    }
   ],
   "source": [
    "create_directory('Datasets')\n",
    "\n",
    "today = date.today()\n",
    "todays_file = 'covid_{}.json'.format(today)\n",
    "current_filename = 'Datasets/' + todays_file\n",
    "\n",
    "\n",
    "if os.path.isfile(current_filename) == True:\n",
    "    print('True')\n",
    "else:\n",
    "    download_json()"
   ]
  },
  {
   "cell_type": "code",
   "execution_count": 71,
   "metadata": {},
   "outputs": [
    {
     "data": {
      "text/plain": [
       "'covid_2020-10-31.json'"
      ]
     },
     "execution_count": 71,
     "metadata": {},
     "output_type": "execute_result"
    }
   ],
   "source": [
    "todays_file"
   ]
  },
  {
   "cell_type": "code",
   "execution_count": 72,
   "metadata": {},
   "outputs": [
    {
     "data": {
      "text/plain": [
       "{'path': 'Datasets/', 'filenames': ['covid_2020-10-31.json']}"
      ]
     },
     "execution_count": 72,
     "metadata": {},
     "output_type": "execute_result"
    }
   ],
   "source": [
    "check_files = find_suffix_filenames('Datasets/', '.json')\n",
    "check_files"
   ]
  },
  {
   "cell_type": "code",
   "execution_count": 73,
   "metadata": {},
   "outputs": [
    {
     "data": {
      "text/plain": [
       "['covid_2020-10-31.json', '.DS_Store']"
      ]
     },
     "execution_count": 73,
     "metadata": {},
     "output_type": "execute_result"
    }
   ],
   "source": [
    "clean_directory(check_files, exclude=[todays_file])"
   ]
  },
  {
   "cell_type": "code",
   "execution_count": 74,
   "metadata": {},
   "outputs": [],
   "source": [
    "def split_json_to_dfs(filename):\n",
    "    read_df = pd.read_json(filename)\n",
    "    ### Dataframe #1\n",
    "    country_information = read_df.T.drop('data', 1).reset_index()\n",
    "    ### Dataframe #2\n",
    "    country_key = country_information[['index', 'location']]\n",
    "    ### Datafrane #3\n",
    "    covid_cases = read_df.T['data']\n",
    "    combined_df = pd.DataFrame()\n",
    "    for country in list(covid_cases.keys()):\n",
    "        new_df = pd.DataFrame.from_dict(covid_cases[country], orient='columns')\n",
    "        new_df['country_code'] = country\n",
    "        combined_df = combined_df.append(new_df)\n",
    "    combined_df['date']= pd.to_datetime(combined_df['date'])\n",
    "    return country_information, country_key, combined_df\n"
   ]
  },
  {
   "cell_type": "code",
   "execution_count": 75,
   "metadata": {},
   "outputs": [],
   "source": [
    "# Merging with Keys\n",
    "country_information, country_key, combined_df = split_json_to_dfs(current_filename)\n",
    "combined_df = combined_df.merge(country_key, \n",
    "                                how='left',\n",
    "                                left_on='country_code', \n",
    "                                right_on='index').drop(['country_code', 'index'], axis = 1)"
   ]
  },
  {
   "cell_type": "code",
   "execution_count": 76,
   "metadata": {},
   "outputs": [
    {
     "data": {
      "text/plain": [
       "{'index': 'CAN',\n",
       " 'continent': 'North America',\n",
       " 'location': 'Canada',\n",
       " 'population': 37742157.0,\n",
       " 'population_density': 4.037,\n",
       " 'median_age': 41.4,\n",
       " 'aged_65_older': 16.984,\n",
       " 'aged_70_older': 10.797,\n",
       " 'gdp_per_capita': 44017.591,\n",
       " 'diabetes_prevalence': 7.37,\n",
       " 'life_expectancy': 82.43,\n",
       " 'cardiovasc_death_rate': 105.599,\n",
       " 'handwashing_facilities': nan,\n",
       " 'hospital_beds_per_thousand': 2.5,\n",
       " 'human_development_index': 0.926,\n",
       " 'extreme_poverty': 0.5,\n",
       " 'female_smokers': 12.0,\n",
       " 'male_smokers': 16.6}"
      ]
     },
     "execution_count": 76,
     "metadata": {},
     "output_type": "execute_result"
    }
   ],
   "source": [
    "country_stat_dict = country_information[country_information['location'] == 'Canada'].to_dict('records')[0]\n",
    "country_stat_dict"
   ]
  },
  {
   "cell_type": "code",
   "execution_count": 77,
   "metadata": {},
   "outputs": [],
   "source": [
    "value = country_stat_dict['population']"
   ]
  },
  {
   "cell_type": "code",
   "execution_count": 78,
   "metadata": {},
   "outputs": [
    {
     "data": {
      "text/html": [
       "<div>\n",
       "<style scoped>\n",
       "    .dataframe tbody tr th:only-of-type {\n",
       "        vertical-align: middle;\n",
       "    }\n",
       "\n",
       "    .dataframe tbody tr th {\n",
       "        vertical-align: top;\n",
       "    }\n",
       "\n",
       "    .dataframe thead th {\n",
       "        text-align: right;\n",
       "    }\n",
       "</style>\n",
       "<table border=\"1\" class=\"dataframe\">\n",
       "  <thead>\n",
       "    <tr style=\"text-align: right;\">\n",
       "      <th></th>\n",
       "      <th>date</th>\n",
       "      <th>location</th>\n",
       "      <th>total_cases</th>\n",
       "      <th>new_cases</th>\n",
       "      <th>new_deaths</th>\n",
       "      <th>total_cases_per_million</th>\n",
       "      <th>new_cases_per_million</th>\n",
       "      <th>new_deaths_per_million</th>\n",
       "      <th>stringency_index</th>\n",
       "      <th>new_cases_smoothed</th>\n",
       "      <th>...</th>\n",
       "      <th>tests_per_case</th>\n",
       "      <th>positive_rate</th>\n",
       "      <th>hosp_patients</th>\n",
       "      <th>hosp_patients_per_million</th>\n",
       "      <th>icu_patients</th>\n",
       "      <th>icu_patients_per_million</th>\n",
       "      <th>weekly_hosp_admissions</th>\n",
       "      <th>weekly_hosp_admissions_per_million</th>\n",
       "      <th>weekly_icu_admissions</th>\n",
       "      <th>weekly_icu_admissions_per_million</th>\n",
       "    </tr>\n",
       "  </thead>\n",
       "  <tbody>\n",
       "    <tr>\n",
       "      <th>0</th>\n",
       "      <td>2020-03-13</td>\n",
       "      <td>Aruba</td>\n",
       "      <td>2.0</td>\n",
       "      <td>2.0</td>\n",
       "      <td>0.0</td>\n",
       "      <td>18.733</td>\n",
       "      <td>18.733</td>\n",
       "      <td>0.0</td>\n",
       "      <td>0.00</td>\n",
       "      <td>NaN</td>\n",
       "      <td>...</td>\n",
       "      <td>NaN</td>\n",
       "      <td>NaN</td>\n",
       "      <td>NaN</td>\n",
       "      <td>NaN</td>\n",
       "      <td>NaN</td>\n",
       "      <td>NaN</td>\n",
       "      <td>NaN</td>\n",
       "      <td>NaN</td>\n",
       "      <td>NaN</td>\n",
       "      <td>NaN</td>\n",
       "    </tr>\n",
       "    <tr>\n",
       "      <th>1</th>\n",
       "      <td>2020-03-19</td>\n",
       "      <td>Aruba</td>\n",
       "      <td>NaN</td>\n",
       "      <td>NaN</td>\n",
       "      <td>NaN</td>\n",
       "      <td>NaN</td>\n",
       "      <td>NaN</td>\n",
       "      <td>NaN</td>\n",
       "      <td>33.33</td>\n",
       "      <td>0.286</td>\n",
       "      <td>...</td>\n",
       "      <td>NaN</td>\n",
       "      <td>NaN</td>\n",
       "      <td>NaN</td>\n",
       "      <td>NaN</td>\n",
       "      <td>NaN</td>\n",
       "      <td>NaN</td>\n",
       "      <td>NaN</td>\n",
       "      <td>NaN</td>\n",
       "      <td>NaN</td>\n",
       "      <td>NaN</td>\n",
       "    </tr>\n",
       "    <tr>\n",
       "      <th>2</th>\n",
       "      <td>2020-03-20</td>\n",
       "      <td>Aruba</td>\n",
       "      <td>4.0</td>\n",
       "      <td>2.0</td>\n",
       "      <td>0.0</td>\n",
       "      <td>37.465</td>\n",
       "      <td>18.733</td>\n",
       "      <td>0.0</td>\n",
       "      <td>33.33</td>\n",
       "      <td>0.286</td>\n",
       "      <td>...</td>\n",
       "      <td>NaN</td>\n",
       "      <td>NaN</td>\n",
       "      <td>NaN</td>\n",
       "      <td>NaN</td>\n",
       "      <td>NaN</td>\n",
       "      <td>NaN</td>\n",
       "      <td>NaN</td>\n",
       "      <td>NaN</td>\n",
       "      <td>NaN</td>\n",
       "      <td>NaN</td>\n",
       "    </tr>\n",
       "    <tr>\n",
       "      <th>3</th>\n",
       "      <td>2020-03-21</td>\n",
       "      <td>Aruba</td>\n",
       "      <td>NaN</td>\n",
       "      <td>NaN</td>\n",
       "      <td>NaN</td>\n",
       "      <td>NaN</td>\n",
       "      <td>NaN</td>\n",
       "      <td>NaN</td>\n",
       "      <td>44.44</td>\n",
       "      <td>0.286</td>\n",
       "      <td>...</td>\n",
       "      <td>NaN</td>\n",
       "      <td>NaN</td>\n",
       "      <td>NaN</td>\n",
       "      <td>NaN</td>\n",
       "      <td>NaN</td>\n",
       "      <td>NaN</td>\n",
       "      <td>NaN</td>\n",
       "      <td>NaN</td>\n",
       "      <td>NaN</td>\n",
       "      <td>NaN</td>\n",
       "    </tr>\n",
       "    <tr>\n",
       "      <th>4</th>\n",
       "      <td>2020-03-22</td>\n",
       "      <td>Aruba</td>\n",
       "      <td>NaN</td>\n",
       "      <td>NaN</td>\n",
       "      <td>NaN</td>\n",
       "      <td>NaN</td>\n",
       "      <td>NaN</td>\n",
       "      <td>NaN</td>\n",
       "      <td>44.44</td>\n",
       "      <td>0.286</td>\n",
       "      <td>...</td>\n",
       "      <td>NaN</td>\n",
       "      <td>NaN</td>\n",
       "      <td>NaN</td>\n",
       "      <td>NaN</td>\n",
       "      <td>NaN</td>\n",
       "      <td>NaN</td>\n",
       "      <td>NaN</td>\n",
       "      <td>NaN</td>\n",
       "      <td>NaN</td>\n",
       "      <td>NaN</td>\n",
       "    </tr>\n",
       "  </tbody>\n",
       "</table>\n",
       "<p>5 rows × 32 columns</p>\n",
       "</div>"
      ],
      "text/plain": [
       "        date location  total_cases  new_cases  new_deaths  \\\n",
       "0 2020-03-13    Aruba          2.0        2.0         0.0   \n",
       "1 2020-03-19    Aruba          NaN        NaN         NaN   \n",
       "2 2020-03-20    Aruba          4.0        2.0         0.0   \n",
       "3 2020-03-21    Aruba          NaN        NaN         NaN   \n",
       "4 2020-03-22    Aruba          NaN        NaN         NaN   \n",
       "\n",
       "   total_cases_per_million  new_cases_per_million  new_deaths_per_million  \\\n",
       "0                   18.733                 18.733                     0.0   \n",
       "1                      NaN                    NaN                     NaN   \n",
       "2                   37.465                 18.733                     0.0   \n",
       "3                      NaN                    NaN                     NaN   \n",
       "4                      NaN                    NaN                     NaN   \n",
       "\n",
       "   stringency_index  new_cases_smoothed  ...  tests_per_case  positive_rate  \\\n",
       "0              0.00                 NaN  ...             NaN            NaN   \n",
       "1             33.33               0.286  ...             NaN            NaN   \n",
       "2             33.33               0.286  ...             NaN            NaN   \n",
       "3             44.44               0.286  ...             NaN            NaN   \n",
       "4             44.44               0.286  ...             NaN            NaN   \n",
       "\n",
       "   hosp_patients  hosp_patients_per_million  icu_patients  \\\n",
       "0            NaN                        NaN           NaN   \n",
       "1            NaN                        NaN           NaN   \n",
       "2            NaN                        NaN           NaN   \n",
       "3            NaN                        NaN           NaN   \n",
       "4            NaN                        NaN           NaN   \n",
       "\n",
       "   icu_patients_per_million  weekly_hosp_admissions  \\\n",
       "0                       NaN                     NaN   \n",
       "1                       NaN                     NaN   \n",
       "2                       NaN                     NaN   \n",
       "3                       NaN                     NaN   \n",
       "4                       NaN                     NaN   \n",
       "\n",
       "   weekly_hosp_admissions_per_million  weekly_icu_admissions  \\\n",
       "0                                 NaN                    NaN   \n",
       "1                                 NaN                    NaN   \n",
       "2                                 NaN                    NaN   \n",
       "3                                 NaN                    NaN   \n",
       "4                                 NaN                    NaN   \n",
       "\n",
       "  weekly_icu_admissions_per_million  \n",
       "0                               NaN  \n",
       "1                               NaN  \n",
       "2                               NaN  \n",
       "3                               NaN  \n",
       "4                               NaN  \n",
       "\n",
       "[5 rows x 32 columns]"
      ]
     },
     "execution_count": 78,
     "metadata": {},
     "output_type": "execute_result"
    }
   ],
   "source": [
    "col_reorder = combined_df.columns.to_list()\n",
    "if 'location' in col_reorder: col_reorder.remove('location')\n",
    "col_reorder.insert(1, 'location')\n",
    "combined_df = combined_df[col_reorder]\n",
    "combined_df.head()"
   ]
  },
  {
   "cell_type": "code",
   "execution_count": 79,
   "metadata": {},
   "outputs": [
    {
     "data": {
      "text/plain": [
       "Index(['date', 'location', 'total_cases', 'new_cases', 'new_deaths',\n",
       "       'total_cases_per_million', 'new_cases_per_million',\n",
       "       'new_deaths_per_million', 'stringency_index', 'new_cases_smoothed',\n",
       "       'new_deaths_smoothed', 'new_cases_smoothed_per_million',\n",
       "       'new_deaths_smoothed_per_million', 'total_deaths',\n",
       "       'total_deaths_per_million', 'total_tests', 'new_tests',\n",
       "       'total_tests_per_thousand', 'new_tests_per_thousand', 'tests_units',\n",
       "       'new_tests_smoothed', 'new_tests_smoothed_per_thousand',\n",
       "       'tests_per_case', 'positive_rate', 'hosp_patients',\n",
       "       'hosp_patients_per_million', 'icu_patients', 'icu_patients_per_million',\n",
       "       'weekly_hosp_admissions', 'weekly_hosp_admissions_per_million',\n",
       "       'weekly_icu_admissions', 'weekly_icu_admissions_per_million'],\n",
       "      dtype='object')"
      ]
     },
     "execution_count": 79,
     "metadata": {},
     "output_type": "execute_result"
    }
   ],
   "source": [
    "combined_df.columns"
   ]
  },
  {
   "cell_type": "code",
   "execution_count": 80,
   "metadata": {},
   "outputs": [
    {
     "data": {
      "text/plain": [
       "{'continent': 'North America',\n",
       " 'location': 'Canada',\n",
       " 'population': 37742157.0,\n",
       " 'population_density': 4.037,\n",
       " 'median_age': 41.4,\n",
       " 'aged_65_older': 16.984,\n",
       " 'aged_70_older': 10.797,\n",
       " 'gdp_per_capita': 44017.591,\n",
       " 'diabetes_prevalence': 7.37,\n",
       " 'life_expectancy': 82.43,\n",
       " 'cardiovasc_death_rate': 105.599,\n",
       " 'handwashing_facilities': nan,\n",
       " 'hospital_beds_per_thousand': 2.5,\n",
       " 'human_development_index': 0.926,\n",
       " 'extreme_poverty': 0.5,\n",
       " 'female_smokers': 12.0,\n",
       " 'male_smokers': 16.6}"
      ]
     },
     "execution_count": 80,
     "metadata": {},
     "output_type": "execute_result"
    }
   ],
   "source": [
    "filtered = country_information[country_information['location'] == 'Canada'].drop(['index'], axis = 1)\n",
    "x = filtered.to_dict(orient = 'records')[0]\n",
    "x"
   ]
  },
  {
   "cell_type": "code",
   "execution_count": 81,
   "metadata": {},
   "outputs": [
    {
     "data": {
      "text/html": [
       "<div>\n",
       "<style scoped>\n",
       "    .dataframe tbody tr th:only-of-type {\n",
       "        vertical-align: middle;\n",
       "    }\n",
       "\n",
       "    .dataframe tbody tr th {\n",
       "        vertical-align: top;\n",
       "    }\n",
       "\n",
       "    .dataframe thead th {\n",
       "        text-align: right;\n",
       "    }\n",
       "</style>\n",
       "<table border=\"1\" class=\"dataframe\">\n",
       "  <thead>\n",
       "    <tr style=\"text-align: right;\">\n",
       "      <th></th>\n",
       "      <th>continent</th>\n",
       "      <th>population</th>\n",
       "      <th>population_density</th>\n",
       "      <th>median_age</th>\n",
       "    </tr>\n",
       "  </thead>\n",
       "  <tbody>\n",
       "    <tr>\n",
       "      <th>33</th>\n",
       "      <td>North America</td>\n",
       "      <td>3.77422e+07</td>\n",
       "      <td>4.037</td>\n",
       "      <td>41.4</td>\n",
       "    </tr>\n",
       "  </tbody>\n",
       "</table>\n",
       "</div>"
      ],
      "text/plain": [
       "        continent   population population_density median_age\n",
       "33  North America  3.77422e+07              4.037       41.4"
      ]
     },
     "execution_count": 81,
     "metadata": {},
     "output_type": "execute_result"
    }
   ],
   "source": [
    "country_stat = ['continent', 'population', 'population_density', 'median_age']\n",
    "\n",
    "df_country_stat = filtered[country_stat]\n",
    "df_country_stat"
   ]
  },
  {
   "cell_type": "code",
   "execution_count": 82,
   "metadata": {},
   "outputs": [
    {
     "data": {
      "text/html": [
       "<div>\n",
       "<style scoped>\n",
       "    .dataframe tbody tr th:only-of-type {\n",
       "        vertical-align: middle;\n",
       "    }\n",
       "\n",
       "    .dataframe tbody tr th {\n",
       "        vertical-align: top;\n",
       "    }\n",
       "\n",
       "    .dataframe thead th {\n",
       "        text-align: right;\n",
       "    }\n",
       "</style>\n",
       "<table border=\"1\" class=\"dataframe\">\n",
       "  <thead>\n",
       "    <tr style=\"text-align: right;\">\n",
       "      <th></th>\n",
       "      <th>0</th>\n",
       "    </tr>\n",
       "  </thead>\n",
       "  <tbody>\n",
       "    <tr>\n",
       "      <th>continent</th>\n",
       "      <td>North America</td>\n",
       "    </tr>\n",
       "    <tr>\n",
       "      <th>location</th>\n",
       "      <td>Canada</td>\n",
       "    </tr>\n",
       "    <tr>\n",
       "      <th>population</th>\n",
       "      <td>3.77422e+07</td>\n",
       "    </tr>\n",
       "    <tr>\n",
       "      <th>population_density</th>\n",
       "      <td>4.037</td>\n",
       "    </tr>\n",
       "    <tr>\n",
       "      <th>median_age</th>\n",
       "      <td>41.4</td>\n",
       "    </tr>\n",
       "    <tr>\n",
       "      <th>aged_65_older</th>\n",
       "      <td>16.984</td>\n",
       "    </tr>\n",
       "    <tr>\n",
       "      <th>aged_70_older</th>\n",
       "      <td>10.797</td>\n",
       "    </tr>\n",
       "    <tr>\n",
       "      <th>gdp_per_capita</th>\n",
       "      <td>44017.6</td>\n",
       "    </tr>\n",
       "    <tr>\n",
       "      <th>diabetes_prevalence</th>\n",
       "      <td>7.37</td>\n",
       "    </tr>\n",
       "    <tr>\n",
       "      <th>life_expectancy</th>\n",
       "      <td>82.43</td>\n",
       "    </tr>\n",
       "    <tr>\n",
       "      <th>cardiovasc_death_rate</th>\n",
       "      <td>105.599</td>\n",
       "    </tr>\n",
       "    <tr>\n",
       "      <th>handwashing_facilities</th>\n",
       "      <td>NaN</td>\n",
       "    </tr>\n",
       "    <tr>\n",
       "      <th>hospital_beds_per_thousand</th>\n",
       "      <td>2.5</td>\n",
       "    </tr>\n",
       "    <tr>\n",
       "      <th>human_development_index</th>\n",
       "      <td>0.926</td>\n",
       "    </tr>\n",
       "    <tr>\n",
       "      <th>extreme_poverty</th>\n",
       "      <td>0.5</td>\n",
       "    </tr>\n",
       "    <tr>\n",
       "      <th>female_smokers</th>\n",
       "      <td>12</td>\n",
       "    </tr>\n",
       "    <tr>\n",
       "      <th>male_smokers</th>\n",
       "      <td>16.6</td>\n",
       "    </tr>\n",
       "  </tbody>\n",
       "</table>\n",
       "</div>"
      ],
      "text/plain": [
       "                                        0\n",
       "continent                   North America\n",
       "location                           Canada\n",
       "population                    3.77422e+07\n",
       "population_density                  4.037\n",
       "median_age                           41.4\n",
       "aged_65_older                      16.984\n",
       "aged_70_older                      10.797\n",
       "gdp_per_capita                    44017.6\n",
       "diabetes_prevalence                  7.37\n",
       "life_expectancy                     82.43\n",
       "cardiovasc_death_rate             105.599\n",
       "handwashing_facilities                NaN\n",
       "hospital_beds_per_thousand            2.5\n",
       "human_development_index             0.926\n",
       "extreme_poverty                       0.5\n",
       "female_smokers                         12\n",
       "male_smokers                         16.6"
      ]
     },
     "execution_count": 82,
     "metadata": {},
     "output_type": "execute_result"
    }
   ],
   "source": [
    "pd.DataFrame.from_dict(x, orient='index')"
   ]
  },
  {
   "cell_type": "markdown",
   "metadata": {},
   "source": [
    "# Create Dropdown Option"
   ]
  },
  {
   "cell_type": "code",
   "execution_count": 83,
   "metadata": {},
   "outputs": [],
   "source": [
    "drop_option = country_key.copy()\n",
    "drop_option['value'] = drop_option['location']\n",
    "drop_option = drop_option.drop('index', 1)\n",
    "drop_option = drop_option.rename(columns = {'location': 'label', 'value': 'value'})"
   ]
  },
  {
   "cell_type": "code",
   "execution_count": 84,
   "metadata": {},
   "outputs": [],
   "source": [
    "drop_option_list = drop_option.to_dict(orient='records')"
   ]
  },
  {
   "cell_type": "markdown",
   "metadata": {},
   "source": [
    "# Updating Graph"
   ]
  },
  {
   "cell_type": "code",
   "execution_count": 85,
   "metadata": {},
   "outputs": [],
   "source": [
    "min_date = min(combined_df['date'])\n",
    "max_date = max(combined_df['date'])\n",
    "time_elapse = max_date - min_date"
   ]
  },
  {
   "cell_type": "code",
   "execution_count": 86,
   "metadata": {},
   "outputs": [
    {
     "name": "stderr",
     "output_type": "stream",
     "text": [
      "<ipython-input-86-7bd90d8c847b>:5: SettingWithCopyWarning: \n",
      "A value is trying to be set on a copy of a slice from a DataFrame.\n",
      "Try using .loc[row_indexer,col_indexer] = value instead\n",
      "\n",
      "See the caveats in the documentation: https://pandas.pydata.org/pandas-docs/stable/user_guide/indexing.html#returning-a-view-versus-a-copy\n",
      "  output['new_cases_MA'] = output['new_cases'].rolling(window=10).mean()\n"
     ]
    },
    {
     "data": {
      "image/png": "[encoded data removed]",
      "text/plain": [
       "<Figure size 936x432 with 1 Axes>"
      ]
     },
     "metadata": {
      "needs_background": "light"
     },
     "output_type": "display_data"
    }
   ],
   "source": [
    "country_input = 'Netherlands'\n",
    "\n",
    "def filter_country(df, select_country = 'World'):\n",
    "    output = df[df['location'] == select_country]\n",
    "    output['new_cases_MA'] = output['new_cases'].rolling(window=10).mean()\n",
    "    return output\n",
    "\n",
    "plt.figure(figsize=(13,6))\n",
    "filtered_df = filter_country(combined_df, country_input)\n",
    "plt.plot('date', 'new_cases',data= filtered_df, label = 'New Cases')\n",
    "plt.plot('date', 'new_cases_MA', data= filtered_df, label = '10-day Moving Average')\n",
    "plt.legend()\n",
    "plt.show()"
   ]
  },
  {
   "cell_type": "code",
   "execution_count": 97,
   "metadata": {},
   "outputs": [
    {
     "data": {
      "text/plain": [
       "{'index': 'NLD',\n",
       " 'continent': 'Europe',\n",
       " 'location': 'Netherlands',\n",
       " 'population': 17134873.0,\n",
       " 'population_density': 508.544,\n",
       " 'median_age': 43.2,\n",
       " 'aged_65_older': 18.779,\n",
       " 'aged_70_older': 11.881,\n",
       " 'gdp_per_capita': 48472.545,\n",
       " 'diabetes_prevalence': 5.29,\n",
       " 'life_expectancy': 82.28,\n",
       " 'cardiovasc_death_rate': 109.361,\n",
       " 'handwashing_facilities': nan,\n",
       " 'hospital_beds_per_thousand': 3.32,\n",
       " 'human_development_index': 0.931,\n",
       " 'extreme_poverty': nan,\n",
       " 'female_smokers': 24.4,\n",
       " 'male_smokers': 27.3}"
      ]
     },
     "execution_count": 97,
     "metadata": {},
     "output_type": "execute_result"
    }
   ],
   "source": [
    "selected_country_info = country_information[country_information['location'] == country_input].to_dict('records')[0]\n",
    "selected_country_info"
   ]
  },
  {
   "cell_type": "code",
   "execution_count": 101,
   "metadata": {},
   "outputs": [
    {
     "name": "stdout",
     "output_type": "stream",
     "text": [
      "Europe\n"
     ]
    }
   ],
   "source": [
    "continent = selected_country_info['continent']\n",
    "print(continent)"
   ]
  },
  {
   "cell_type": "code",
   "execution_count": 109,
   "metadata": {},
   "outputs": [],
   "source": [
    "contr_list = country_information[country_information['continent'] == continent]['location'].to_list()"
   ]
  }
 ],
 "metadata": {
  "kernelspec": {
   "display_name": "Python 3",
   "language": "python",
   "name": "python3"
  },
  "language_info": {
   "codemirror_mode": {
    "name": "ipython",
    "version": 3
   },
   "file_extension": ".py",
   "mimetype": "text/x-python",
   "name": "python",
   "nbconvert_exporter": "python",
   "pygments_lexer": "ipython3",
   "version": "3.8.3"
  },
  "toc": {
   "base_numbering": 1,
   "nav_menu": {},
   "number_sections": true,
   "sideBar": true,
   "skip_h1_title": false,
   "title_cell": "Table of Contents",
   "title_sidebar": "Contents",
   "toc_cell": false,
   "toc_position": {
    "height": "calc(100% - 180px)",
    "left": "10px",
    "top": "150px",
    "width": "166px"
   },
   "toc_section_display": true,
   "toc_window_display": true
  }
 },
 "nbformat": 4,
 "nbformat_minor": 4
}
