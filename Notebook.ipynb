{
 "cells": [
  {
   "cell_type": "code",
   "execution_count": 1,
   "metadata": {},
   "outputs": [],
   "source": [
    "from datetime import date\n",
    "from import_dataset import download_json\n",
    "from other_functions import *\n",
    "import pandas as pd\n",
    "import matplotlib.pyplot as plt\n",
    "import json"
   ]
  },
  {
   "cell_type": "code",
   "execution_count": 2,
   "metadata": {},
   "outputs": [
    {
     "name": "stdout",
     "output_type": "stream",
     "text": [
      "Datasets folder already exists!\n",
      "True\n"
     ]
    }
   ],
   "source": [
    "create_directory('Datasets')\n",
    "\n",
    "today = date.today()\n",
    "todays_file = 'covid_{}.json'.format(today)\n",
    "current_filename = 'Datasets/' + todays_file\n",
    "\n",
    "\n",
    "if os.path.isfile(current_filename) == True:\n",
    "    print('True')\n",
    "else:\n",
    "    download_json()"
   ]
  },
  {
   "cell_type": "code",
   "execution_count": 3,
   "metadata": {},
   "outputs": [
    {
     "data": {
      "text/plain": [
       "'covid_2020-11-03.json'"
      ]
     },
     "execution_count": 3,
     "metadata": {},
     "output_type": "execute_result"
    }
   ],
   "source": [
    "todays_file"
   ]
  },
  {
   "cell_type": "code",
   "execution_count": 4,
   "metadata": {},
   "outputs": [
    {
     "data": {
      "text/plain": [
       "{'path': 'Datasets/', 'filenames': ['covid_2020-11-03.json']}"
      ]
     },
     "execution_count": 4,
     "metadata": {},
     "output_type": "execute_result"
    }
   ],
   "source": [
    "check_files = find_suffix_filenames('Datasets/', '.json')\n",
    "check_files"
   ]
  },
  {
   "cell_type": "code",
   "execution_count": 5,
   "metadata": {},
   "outputs": [
    {
     "data": {
      "text/plain": [
       "['.DS_Store', 'covid_2020-11-03.json']"
      ]
     },
     "execution_count": 5,
     "metadata": {},
     "output_type": "execute_result"
    }
   ],
   "source": [
    "clean_directory(check_files, exclude=[todays_file])"
   ]
  },
  {
   "cell_type": "code",
   "execution_count": 6,
   "metadata": {},
   "outputs": [],
   "source": [
    "def split_json_to_dfs(filename):\n",
    "    read_df = pd.read_json(filename)\n",
    "    ### Dataframe #1\n",
    "    country_information = read_df.T.drop('data', 1).reset_index()\n",
    "    ### Dataframe #2\n",
    "    country_key = country_information[['index', 'location', 'continent']]\n",
    "    ### Datafrane #3\n",
    "    covid_cases = read_df.T['data']\n",
    "    combined_df = pd.DataFrame()\n",
    "    for country in list(covid_cases.keys()):\n",
    "        new_df = pd.DataFrame.from_dict(covid_cases[country], orient='columns')\n",
    "        new_df['country_code'] = country\n",
    "        combined_df = combined_df.append(new_df)\n",
    "    combined_df['date']= pd.to_datetime(combined_df['date'])\n",
    "    return country_information, country_key, combined_df\n"
   ]
  },
  {
   "cell_type": "code",
   "execution_count": 7,
   "metadata": {},
   "outputs": [],
   "source": [
    "# Merging with Keys\n",
    "country_information, country_key, combined_df = split_json_to_dfs(current_filename)\n",
    "combined_df = combined_df.merge(country_key, \n",
    "                                how='left',\n",
    "                                left_on='country_code', \n",
    "                                right_on='index').drop(['country_code', 'index'], axis = 1)"
   ]
  },
  {
   "cell_type": "code",
   "execution_count": 8,
   "metadata": {},
   "outputs": [
    {
     "data": {
      "text/plain": [
       "{'index': 'CAN',\n",
       " 'continent': 'North America',\n",
       " 'location': 'Canada',\n",
       " 'population': 37742157.0,\n",
       " 'population_density': 4.037,\n",
       " 'median_age': 41.4,\n",
       " 'aged_65_older': 16.984,\n",
       " 'aged_70_older': 10.797,\n",
       " 'gdp_per_capita': 44017.591,\n",
       " 'diabetes_prevalence': 7.37,\n",
       " 'life_expectancy': 82.43,\n",
       " 'cardiovasc_death_rate': 105.599,\n",
       " 'handwashing_facilities': nan,\n",
       " 'hospital_beds_per_thousand': 2.5,\n",
       " 'human_development_index': 0.926,\n",
       " 'extreme_poverty': 0.5,\n",
       " 'female_smokers': 12.0,\n",
       " 'male_smokers': 16.6}"
      ]
     },
     "execution_count": 8,
     "metadata": {},
     "output_type": "execute_result"
    }
   ],
   "source": [
    "country_stat_dict = country_information[country_information['location'] == 'Canada'].to_dict('records')[0]\n",
    "country_stat_dict"
   ]
  },
  {
   "cell_type": "code",
   "execution_count": 9,
   "metadata": {},
   "outputs": [],
   "source": [
    "value = country_stat_dict['population']"
   ]
  },
  {
   "cell_type": "code",
   "execution_count": 10,
   "metadata": {},
   "outputs": [
    {
     "data": {
      "text/html": [
       "<div>\n",
       "<style scoped>\n",
       "    .dataframe tbody tr th:only-of-type {\n",
       "        vertical-align: middle;\n",
       "    }\n",
       "\n",
       "    .dataframe tbody tr th {\n",
       "        vertical-align: top;\n",
       "    }\n",
       "\n",
       "    .dataframe thead th {\n",
       "        text-align: right;\n",
       "    }\n",
       "</style>\n",
       "<table border=\"1\" class=\"dataframe\">\n",
       "  <thead>\n",
       "    <tr style=\"text-align: right;\">\n",
       "      <th></th>\n",
       "      <th>date</th>\n",
       "      <th>location</th>\n",
       "      <th>total_cases</th>\n",
       "      <th>new_cases</th>\n",
       "      <th>new_deaths</th>\n",
       "      <th>total_cases_per_million</th>\n",
       "      <th>new_cases_per_million</th>\n",
       "      <th>new_deaths_per_million</th>\n",
       "      <th>stringency_index</th>\n",
       "      <th>new_cases_smoothed</th>\n",
       "      <th>...</th>\n",
       "      <th>positive_rate</th>\n",
       "      <th>hosp_patients</th>\n",
       "      <th>hosp_patients_per_million</th>\n",
       "      <th>icu_patients</th>\n",
       "      <th>icu_patients_per_million</th>\n",
       "      <th>weekly_hosp_admissions</th>\n",
       "      <th>weekly_hosp_admissions_per_million</th>\n",
       "      <th>weekly_icu_admissions</th>\n",
       "      <th>weekly_icu_admissions_per_million</th>\n",
       "      <th>continent</th>\n",
       "    </tr>\n",
       "  </thead>\n",
       "  <tbody>\n",
       "    <tr>\n",
       "      <th>0</th>\n",
       "      <td>2020-03-13</td>\n",
       "      <td>Aruba</td>\n",
       "      <td>2.0</td>\n",
       "      <td>2.0</td>\n",
       "      <td>0.0</td>\n",
       "      <td>18.733</td>\n",
       "      <td>18.733</td>\n",
       "      <td>0.0</td>\n",
       "      <td>0.00</td>\n",
       "      <td>NaN</td>\n",
       "      <td>...</td>\n",
       "      <td>NaN</td>\n",
       "      <td>NaN</td>\n",
       "      <td>NaN</td>\n",
       "      <td>NaN</td>\n",
       "      <td>NaN</td>\n",
       "      <td>NaN</td>\n",
       "      <td>NaN</td>\n",
       "      <td>NaN</td>\n",
       "      <td>NaN</td>\n",
       "      <td>North America</td>\n",
       "    </tr>\n",
       "    <tr>\n",
       "      <th>1</th>\n",
       "      <td>2020-03-19</td>\n",
       "      <td>Aruba</td>\n",
       "      <td>NaN</td>\n",
       "      <td>NaN</td>\n",
       "      <td>NaN</td>\n",
       "      <td>NaN</td>\n",
       "      <td>NaN</td>\n",
       "      <td>NaN</td>\n",
       "      <td>33.33</td>\n",
       "      <td>0.286</td>\n",
       "      <td>...</td>\n",
       "      <td>NaN</td>\n",
       "      <td>NaN</td>\n",
       "      <td>NaN</td>\n",
       "      <td>NaN</td>\n",
       "      <td>NaN</td>\n",
       "      <td>NaN</td>\n",
       "      <td>NaN</td>\n",
       "      <td>NaN</td>\n",
       "      <td>NaN</td>\n",
       "      <td>North America</td>\n",
       "    </tr>\n",
       "    <tr>\n",
       "      <th>2</th>\n",
       "      <td>2020-03-20</td>\n",
       "      <td>Aruba</td>\n",
       "      <td>4.0</td>\n",
       "      <td>2.0</td>\n",
       "      <td>0.0</td>\n",
       "      <td>37.465</td>\n",
       "      <td>18.733</td>\n",
       "      <td>0.0</td>\n",
       "      <td>33.33</td>\n",
       "      <td>0.286</td>\n",
       "      <td>...</td>\n",
       "      <td>NaN</td>\n",
       "      <td>NaN</td>\n",
       "      <td>NaN</td>\n",
       "      <td>NaN</td>\n",
       "      <td>NaN</td>\n",
       "      <td>NaN</td>\n",
       "      <td>NaN</td>\n",
       "      <td>NaN</td>\n",
       "      <td>NaN</td>\n",
       "      <td>North America</td>\n",
       "    </tr>\n",
       "    <tr>\n",
       "      <th>3</th>\n",
       "      <td>2020-03-21</td>\n",
       "      <td>Aruba</td>\n",
       "      <td>NaN</td>\n",
       "      <td>NaN</td>\n",
       "      <td>NaN</td>\n",
       "      <td>NaN</td>\n",
       "      <td>NaN</td>\n",
       "      <td>NaN</td>\n",
       "      <td>44.44</td>\n",
       "      <td>0.286</td>\n",
       "      <td>...</td>\n",
       "      <td>NaN</td>\n",
       "      <td>NaN</td>\n",
       "      <td>NaN</td>\n",
       "      <td>NaN</td>\n",
       "      <td>NaN</td>\n",
       "      <td>NaN</td>\n",
       "      <td>NaN</td>\n",
       "      <td>NaN</td>\n",
       "      <td>NaN</td>\n",
       "      <td>North America</td>\n",
       "    </tr>\n",
       "    <tr>\n",
       "      <th>4</th>\n",
       "      <td>2020-03-22</td>\n",
       "      <td>Aruba</td>\n",
       "      <td>NaN</td>\n",
       "      <td>NaN</td>\n",
       "      <td>NaN</td>\n",
       "      <td>NaN</td>\n",
       "      <td>NaN</td>\n",
       "      <td>NaN</td>\n",
       "      <td>44.44</td>\n",
       "      <td>0.286</td>\n",
       "      <td>...</td>\n",
       "      <td>NaN</td>\n",
       "      <td>NaN</td>\n",
       "      <td>NaN</td>\n",
       "      <td>NaN</td>\n",
       "      <td>NaN</td>\n",
       "      <td>NaN</td>\n",
       "      <td>NaN</td>\n",
       "      <td>NaN</td>\n",
       "      <td>NaN</td>\n",
       "      <td>North America</td>\n",
       "    </tr>\n",
       "  </tbody>\n",
       "</table>\n",
       "<p>5 rows × 33 columns</p>\n",
       "</div>"
      ],
      "text/plain": [
       "        date location  total_cases  new_cases  new_deaths  \\\n",
       "0 2020-03-13    Aruba          2.0        2.0         0.0   \n",
       "1 2020-03-19    Aruba          NaN        NaN         NaN   \n",
       "2 2020-03-20    Aruba          4.0        2.0         0.0   \n",
       "3 2020-03-21    Aruba          NaN        NaN         NaN   \n",
       "4 2020-03-22    Aruba          NaN        NaN         NaN   \n",
       "\n",
       "   total_cases_per_million  new_cases_per_million  new_deaths_per_million  \\\n",
       "0                   18.733                 18.733                     0.0   \n",
       "1                      NaN                    NaN                     NaN   \n",
       "2                   37.465                 18.733                     0.0   \n",
       "3                      NaN                    NaN                     NaN   \n",
       "4                      NaN                    NaN                     NaN   \n",
       "\n",
       "   stringency_index  new_cases_smoothed  ...  positive_rate  hosp_patients  \\\n",
       "0              0.00                 NaN  ...            NaN            NaN   \n",
       "1             33.33               0.286  ...            NaN            NaN   \n",
       "2             33.33               0.286  ...            NaN            NaN   \n",
       "3             44.44               0.286  ...            NaN            NaN   \n",
       "4             44.44               0.286  ...            NaN            NaN   \n",
       "\n",
       "   hosp_patients_per_million  icu_patients  icu_patients_per_million  \\\n",
       "0                        NaN           NaN                       NaN   \n",
       "1                        NaN           NaN                       NaN   \n",
       "2                        NaN           NaN                       NaN   \n",
       "3                        NaN           NaN                       NaN   \n",
       "4                        NaN           NaN                       NaN   \n",
       "\n",
       "   weekly_hosp_admissions  weekly_hosp_admissions_per_million  \\\n",
       "0                     NaN                                 NaN   \n",
       "1                     NaN                                 NaN   \n",
       "2                     NaN                                 NaN   \n",
       "3                     NaN                                 NaN   \n",
       "4                     NaN                                 NaN   \n",
       "\n",
       "   weekly_icu_admissions  weekly_icu_admissions_per_million      continent  \n",
       "0                    NaN                                NaN  North America  \n",
       "1                    NaN                                NaN  North America  \n",
       "2                    NaN                                NaN  North America  \n",
       "3                    NaN                                NaN  North America  \n",
       "4                    NaN                                NaN  North America  \n",
       "\n",
       "[5 rows x 33 columns]"
      ]
     },
     "execution_count": 10,
     "metadata": {},
     "output_type": "execute_result"
    }
   ],
   "source": [
    "col_reorder = combined_df.columns.to_list()\n",
    "if 'location' in col_reorder: col_reorder.remove('location')\n",
    "col_reorder.insert(1, 'location')\n",
    "combined_df = combined_df[col_reorder]\n",
    "combined_df.head()"
   ]
  },
  {
   "cell_type": "code",
   "execution_count": 11,
   "metadata": {},
   "outputs": [
    {
     "data": {
      "text/plain": [
       "Index(['date', 'location', 'total_cases', 'new_cases', 'new_deaths',\n",
       "       'total_cases_per_million', 'new_cases_per_million',\n",
       "       'new_deaths_per_million', 'stringency_index', 'new_cases_smoothed',\n",
       "       'new_deaths_smoothed', 'new_cases_smoothed_per_million',\n",
       "       'new_deaths_smoothed_per_million', 'total_deaths',\n",
       "       'total_deaths_per_million', 'total_tests', 'new_tests',\n",
       "       'total_tests_per_thousand', 'new_tests_per_thousand', 'tests_units',\n",
       "       'new_tests_smoothed', 'new_tests_smoothed_per_thousand',\n",
       "       'tests_per_case', 'positive_rate', 'hosp_patients',\n",
       "       'hosp_patients_per_million', 'icu_patients', 'icu_patients_per_million',\n",
       "       'weekly_hosp_admissions', 'weekly_hosp_admissions_per_million',\n",
       "       'weekly_icu_admissions', 'weekly_icu_admissions_per_million',\n",
       "       'continent'],\n",
       "      dtype='object')"
      ]
     },
     "execution_count": 11,
     "metadata": {},
     "output_type": "execute_result"
    }
   ],
   "source": [
    "combined_df.columns"
   ]
  },
  {
   "cell_type": "code",
   "execution_count": 12,
   "metadata": {},
   "outputs": [
    {
     "data": {
      "text/plain": [
       "{'continent': 'North America',\n",
       " 'location': 'Canada',\n",
       " 'population': 37742157.0,\n",
       " 'population_density': 4.037,\n",
       " 'median_age': 41.4,\n",
       " 'aged_65_older': 16.984,\n",
       " 'aged_70_older': 10.797,\n",
       " 'gdp_per_capita': 44017.591,\n",
       " 'diabetes_prevalence': 7.37,\n",
       " 'life_expectancy': 82.43,\n",
       " 'cardiovasc_death_rate': 105.599,\n",
       " 'handwashing_facilities': nan,\n",
       " 'hospital_beds_per_thousand': 2.5,\n",
       " 'human_development_index': 0.926,\n",
       " 'extreme_poverty': 0.5,\n",
       " 'female_smokers': 12.0,\n",
       " 'male_smokers': 16.6}"
      ]
     },
     "execution_count": 12,
     "metadata": {},
     "output_type": "execute_result"
    }
   ],
   "source": [
    "filtered = country_information[country_information['location'] == 'Canada'].drop(['index'], axis = 1)\n",
    "x = filtered.to_dict(orient = 'records')[0]\n",
    "x"
   ]
  },
  {
   "cell_type": "code",
   "execution_count": 13,
   "metadata": {},
   "outputs": [
    {
     "data": {
      "text/html": [
       "<div>\n",
       "<style scoped>\n",
       "    .dataframe tbody tr th:only-of-type {\n",
       "        vertical-align: middle;\n",
       "    }\n",
       "\n",
       "    .dataframe tbody tr th {\n",
       "        vertical-align: top;\n",
       "    }\n",
       "\n",
       "    .dataframe thead th {\n",
       "        text-align: right;\n",
       "    }\n",
       "</style>\n",
       "<table border=\"1\" class=\"dataframe\">\n",
       "  <thead>\n",
       "    <tr style=\"text-align: right;\">\n",
       "      <th></th>\n",
       "      <th>continent</th>\n",
       "      <th>population</th>\n",
       "      <th>population_density</th>\n",
       "      <th>median_age</th>\n",
       "    </tr>\n",
       "  </thead>\n",
       "  <tbody>\n",
       "    <tr>\n",
       "      <th>33</th>\n",
       "      <td>North America</td>\n",
       "      <td>3.77422e+07</td>\n",
       "      <td>4.037</td>\n",
       "      <td>41.4</td>\n",
       "    </tr>\n",
       "  </tbody>\n",
       "</table>\n",
       "</div>"
      ],
      "text/plain": [
       "        continent   population population_density median_age\n",
       "33  North America  3.77422e+07              4.037       41.4"
      ]
     },
     "execution_count": 13,
     "metadata": {},
     "output_type": "execute_result"
    }
   ],
   "source": [
    "country_stat = ['continent', 'population', 'population_density', 'median_age']\n",
    "\n",
    "df_country_stat = filtered[country_stat]\n",
    "df_country_stat"
   ]
  },
  {
   "cell_type": "code",
   "execution_count": 14,
   "metadata": {},
   "outputs": [
    {
     "data": {
      "text/html": [
       "<div>\n",
       "<style scoped>\n",
       "    .dataframe tbody tr th:only-of-type {\n",
       "        vertical-align: middle;\n",
       "    }\n",
       "\n",
       "    .dataframe tbody tr th {\n",
       "        vertical-align: top;\n",
       "    }\n",
       "\n",
       "    .dataframe thead th {\n",
       "        text-align: right;\n",
       "    }\n",
       "</style>\n",
       "<table border=\"1\" class=\"dataframe\">\n",
       "  <thead>\n",
       "    <tr style=\"text-align: right;\">\n",
       "      <th></th>\n",
       "      <th>0</th>\n",
       "    </tr>\n",
       "  </thead>\n",
       "  <tbody>\n",
       "    <tr>\n",
       "      <th>continent</th>\n",
       "      <td>North America</td>\n",
       "    </tr>\n",
       "    <tr>\n",
       "      <th>location</th>\n",
       "      <td>Canada</td>\n",
       "    </tr>\n",
       "    <tr>\n",
       "      <th>population</th>\n",
       "      <td>3.77422e+07</td>\n",
       "    </tr>\n",
       "    <tr>\n",
       "      <th>population_density</th>\n",
       "      <td>4.037</td>\n",
       "    </tr>\n",
       "    <tr>\n",
       "      <th>median_age</th>\n",
       "      <td>41.4</td>\n",
       "    </tr>\n",
       "    <tr>\n",
       "      <th>aged_65_older</th>\n",
       "      <td>16.984</td>\n",
       "    </tr>\n",
       "    <tr>\n",
       "      <th>aged_70_older</th>\n",
       "      <td>10.797</td>\n",
       "    </tr>\n",
       "    <tr>\n",
       "      <th>gdp_per_capita</th>\n",
       "      <td>44017.6</td>\n",
       "    </tr>\n",
       "    <tr>\n",
       "      <th>diabetes_prevalence</th>\n",
       "      <td>7.37</td>\n",
       "    </tr>\n",
       "    <tr>\n",
       "      <th>life_expectancy</th>\n",
       "      <td>82.43</td>\n",
       "    </tr>\n",
       "    <tr>\n",
       "      <th>cardiovasc_death_rate</th>\n",
       "      <td>105.599</td>\n",
       "    </tr>\n",
       "    <tr>\n",
       "      <th>handwashing_facilities</th>\n",
       "      <td>NaN</td>\n",
       "    </tr>\n",
       "    <tr>\n",
       "      <th>hospital_beds_per_thousand</th>\n",
       "      <td>2.5</td>\n",
       "    </tr>\n",
       "    <tr>\n",
       "      <th>human_development_index</th>\n",
       "      <td>0.926</td>\n",
       "    </tr>\n",
       "    <tr>\n",
       "      <th>extreme_poverty</th>\n",
       "      <td>0.5</td>\n",
       "    </tr>\n",
       "    <tr>\n",
       "      <th>female_smokers</th>\n",
       "      <td>12</td>\n",
       "    </tr>\n",
       "    <tr>\n",
       "      <th>male_smokers</th>\n",
       "      <td>16.6</td>\n",
       "    </tr>\n",
       "  </tbody>\n",
       "</table>\n",
       "</div>"
      ],
      "text/plain": [
       "                                        0\n",
       "continent                   North America\n",
       "location                           Canada\n",
       "population                    3.77422e+07\n",
       "population_density                  4.037\n",
       "median_age                           41.4\n",
       "aged_65_older                      16.984\n",
       "aged_70_older                      10.797\n",
       "gdp_per_capita                    44017.6\n",
       "diabetes_prevalence                  7.37\n",
       "life_expectancy                     82.43\n",
       "cardiovasc_death_rate             105.599\n",
       "handwashing_facilities                NaN\n",
       "hospital_beds_per_thousand            2.5\n",
       "human_development_index             0.926\n",
       "extreme_poverty                       0.5\n",
       "female_smokers                         12\n",
       "male_smokers                         16.6"
      ]
     },
     "execution_count": 14,
     "metadata": {},
     "output_type": "execute_result"
    }
   ],
   "source": [
    "pd.DataFrame.from_dict(x, orient='index')"
   ]
  },
  {
   "cell_type": "markdown",
   "metadata": {},
   "source": [
    "# Create Dropdown Option"
   ]
  },
  {
   "cell_type": "code",
   "execution_count": 15,
   "metadata": {},
   "outputs": [],
   "source": [
    "drop_option = country_key.copy()\n",
    "drop_option['value'] = drop_option['location']\n",
    "drop_option = drop_option.drop('index', 1)\n",
    "drop_option = drop_option.rename(columns = {'location': 'label', 'value': 'value'})"
   ]
  },
  {
   "cell_type": "code",
   "execution_count": 16,
   "metadata": {},
   "outputs": [],
   "source": [
    "drop_option_list = drop_option.to_dict(orient='records')"
   ]
  },
  {
   "cell_type": "markdown",
   "metadata": {},
   "source": [
    "# Updating Graph"
   ]
  },
  {
   "cell_type": "code",
   "execution_count": 17,
   "metadata": {},
   "outputs": [],
   "source": [
    "min_date = min(combined_df['date'])\n",
    "max_date = max(combined_df['date'])\n",
    "time_elapse = max_date - min_date"
   ]
  },
  {
   "cell_type": "code",
   "execution_count": 18,
   "metadata": {},
   "outputs": [
    {
     "name": "stderr",
     "output_type": "stream",
     "text": [
      "<ipython-input-18-7bd90d8c847b>:5: SettingWithCopyWarning: \n",
      "A value is trying to be set on a copy of a slice from a DataFrame.\n",
      "Try using .loc[row_indexer,col_indexer] = value instead\n",
      "\n",
      "See the caveats in the documentation: https://pandas.pydata.org/pandas-docs/stable/user_guide/indexing.html#returning-a-view-versus-a-copy\n",
      "  output['new_cases_MA'] = output['new_cases'].rolling(window=10).mean()\n"
     ]
    },
    {
     "data": {
      "image/png": "[encoded data removed]",
      "text/plain": [
       "<Figure size 936x432 with 1 Axes>"
      ]
     },
     "metadata": {
      "needs_background": "light"
     },
     "output_type": "display_data"
    }
   ],
   "source": [
    "country_input = 'Netherlands'\n",
    "\n",
    "def filter_country(df, select_country = 'World'):\n",
    "    output = df[df['location'] == select_country]\n",
    "    output['new_cases_MA'] = output['new_cases'].rolling(window=10).mean()\n",
    "    return output\n",
    "\n",
    "plt.figure(figsize=(13,6))\n",
    "filtered_df = filter_country(combined_df, country_input)\n",
    "plt.plot('date', 'new_cases',data= filtered_df, label = 'New Cases')\n",
    "plt.plot('date', 'new_cases_MA', data= filtered_df, label = '10-day Moving Average')\n",
    "plt.legend()\n",
    "plt.show()"
   ]
  },
  {
   "cell_type": "code",
   "execution_count": 19,
   "metadata": {},
   "outputs": [
    {
     "data": {
      "text/plain": [
       "{'index': 'NLD',\n",
       " 'continent': 'Europe',\n",
       " 'location': 'Netherlands',\n",
       " 'population': 17134873.0,\n",
       " 'population_density': 508.544,\n",
       " 'median_age': 43.2,\n",
       " 'aged_65_older': 18.779,\n",
       " 'aged_70_older': 11.881,\n",
       " 'gdp_per_capita': 48472.545,\n",
       " 'diabetes_prevalence': 5.29,\n",
       " 'life_expectancy': 82.28,\n",
       " 'cardiovasc_death_rate': 109.361,\n",
       " 'handwashing_facilities': nan,\n",
       " 'hospital_beds_per_thousand': 3.32,\n",
       " 'human_development_index': 0.931,\n",
       " 'extreme_poverty': nan,\n",
       " 'female_smokers': 24.4,\n",
       " 'male_smokers': 27.3}"
      ]
     },
     "execution_count": 19,
     "metadata": {},
     "output_type": "execute_result"
    }
   ],
   "source": [
    "selected_country_info = country_information[country_information['location'] == country_input].to_dict('records')[0]\n",
    "selected_country_info"
   ]
  },
  {
   "cell_type": "code",
   "execution_count": 20,
   "metadata": {},
   "outputs": [
    {
     "name": "stdout",
     "output_type": "stream",
     "text": [
      "Europe\n"
     ]
    }
   ],
   "source": [
    "continent = selected_country_info['continent']\n",
    "print(continent)"
   ]
  },
  {
   "cell_type": "code",
   "execution_count": 21,
   "metadata": {},
   "outputs": [],
   "source": [
    "contr_list = country_information[country_information['continent'] == continent]['location'].to_list()"
   ]
  },
  {
   "cell_type": "markdown",
   "metadata": {},
   "source": [
    "# Per continent comparison"
   ]
  },
  {
   "cell_type": "code",
   "execution_count": 22,
   "metadata": {},
   "outputs": [],
   "source": [
    "selected_continent = selected_country_info['continent']"
   ]
  },
  {
   "cell_type": "code",
   "execution_count": 23,
   "metadata": {},
   "outputs": [
    {
     "data": {
      "text/html": [
       "<div>\n",
       "<style scoped>\n",
       "    .dataframe tbody tr th:only-of-type {\n",
       "        vertical-align: middle;\n",
       "    }\n",
       "\n",
       "    .dataframe tbody tr th {\n",
       "        vertical-align: top;\n",
       "    }\n",
       "\n",
       "    .dataframe thead th {\n",
       "        text-align: right;\n",
       "    }\n",
       "</style>\n",
       "<table border=\"1\" class=\"dataframe\">\n",
       "  <thead>\n",
       "    <tr style=\"text-align: right;\">\n",
       "      <th></th>\n",
       "      <th>date</th>\n",
       "      <th>location</th>\n",
       "      <th>total_cases</th>\n",
       "      <th>new_cases</th>\n",
       "      <th>new_deaths</th>\n",
       "      <th>total_cases_per_million</th>\n",
       "      <th>new_cases_per_million</th>\n",
       "      <th>new_deaths_per_million</th>\n",
       "      <th>stringency_index</th>\n",
       "      <th>new_cases_smoothed</th>\n",
       "      <th>...</th>\n",
       "      <th>positive_rate</th>\n",
       "      <th>hosp_patients</th>\n",
       "      <th>hosp_patients_per_million</th>\n",
       "      <th>icu_patients</th>\n",
       "      <th>icu_patients_per_million</th>\n",
       "      <th>weekly_hosp_admissions</th>\n",
       "      <th>weekly_hosp_admissions_per_million</th>\n",
       "      <th>weekly_icu_admissions</th>\n",
       "      <th>weekly_icu_admissions_per_million</th>\n",
       "      <th>continent</th>\n",
       "    </tr>\n",
       "  </thead>\n",
       "  <tbody>\n",
       "    <tr>\n",
       "      <th>989</th>\n",
       "      <td>2020-03-09</td>\n",
       "      <td>Albania</td>\n",
       "      <td>2.0</td>\n",
       "      <td>2.0</td>\n",
       "      <td>0.0</td>\n",
       "      <td>0.695</td>\n",
       "      <td>0.695</td>\n",
       "      <td>0.000</td>\n",
       "      <td>36.11</td>\n",
       "      <td>NaN</td>\n",
       "      <td>...</td>\n",
       "      <td>NaN</td>\n",
       "      <td>NaN</td>\n",
       "      <td>NaN</td>\n",
       "      <td>NaN</td>\n",
       "      <td>NaN</td>\n",
       "      <td>NaN</td>\n",
       "      <td>NaN</td>\n",
       "      <td>NaN</td>\n",
       "      <td>NaN</td>\n",
       "      <td>Europe</td>\n",
       "    </tr>\n",
       "    <tr>\n",
       "      <th>990</th>\n",
       "      <td>2020-03-10</td>\n",
       "      <td>Albania</td>\n",
       "      <td>6.0</td>\n",
       "      <td>4.0</td>\n",
       "      <td>0.0</td>\n",
       "      <td>2.085</td>\n",
       "      <td>1.390</td>\n",
       "      <td>0.000</td>\n",
       "      <td>41.67</td>\n",
       "      <td>NaN</td>\n",
       "      <td>...</td>\n",
       "      <td>NaN</td>\n",
       "      <td>NaN</td>\n",
       "      <td>NaN</td>\n",
       "      <td>NaN</td>\n",
       "      <td>NaN</td>\n",
       "      <td>NaN</td>\n",
       "      <td>NaN</td>\n",
       "      <td>NaN</td>\n",
       "      <td>NaN</td>\n",
       "      <td>Europe</td>\n",
       "    </tr>\n",
       "    <tr>\n",
       "      <th>991</th>\n",
       "      <td>2020-03-11</td>\n",
       "      <td>Albania</td>\n",
       "      <td>10.0</td>\n",
       "      <td>4.0</td>\n",
       "      <td>0.0</td>\n",
       "      <td>3.475</td>\n",
       "      <td>1.390</td>\n",
       "      <td>0.000</td>\n",
       "      <td>51.85</td>\n",
       "      <td>NaN</td>\n",
       "      <td>...</td>\n",
       "      <td>NaN</td>\n",
       "      <td>NaN</td>\n",
       "      <td>NaN</td>\n",
       "      <td>NaN</td>\n",
       "      <td>NaN</td>\n",
       "      <td>NaN</td>\n",
       "      <td>NaN</td>\n",
       "      <td>NaN</td>\n",
       "      <td>NaN</td>\n",
       "      <td>Europe</td>\n",
       "    </tr>\n",
       "    <tr>\n",
       "      <th>992</th>\n",
       "      <td>2020-03-12</td>\n",
       "      <td>Albania</td>\n",
       "      <td>11.0</td>\n",
       "      <td>1.0</td>\n",
       "      <td>1.0</td>\n",
       "      <td>3.822</td>\n",
       "      <td>0.347</td>\n",
       "      <td>0.347</td>\n",
       "      <td>51.85</td>\n",
       "      <td>NaN</td>\n",
       "      <td>...</td>\n",
       "      <td>NaN</td>\n",
       "      <td>NaN</td>\n",
       "      <td>NaN</td>\n",
       "      <td>NaN</td>\n",
       "      <td>NaN</td>\n",
       "      <td>NaN</td>\n",
       "      <td>NaN</td>\n",
       "      <td>NaN</td>\n",
       "      <td>NaN</td>\n",
       "      <td>Europe</td>\n",
       "    </tr>\n",
       "    <tr>\n",
       "      <th>993</th>\n",
       "      <td>2020-03-13</td>\n",
       "      <td>Albania</td>\n",
       "      <td>23.0</td>\n",
       "      <td>12.0</td>\n",
       "      <td>0.0</td>\n",
       "      <td>7.992</td>\n",
       "      <td>4.170</td>\n",
       "      <td>0.000</td>\n",
       "      <td>78.70</td>\n",
       "      <td>NaN</td>\n",
       "      <td>...</td>\n",
       "      <td>NaN</td>\n",
       "      <td>NaN</td>\n",
       "      <td>NaN</td>\n",
       "      <td>NaN</td>\n",
       "      <td>NaN</td>\n",
       "      <td>NaN</td>\n",
       "      <td>NaN</td>\n",
       "      <td>NaN</td>\n",
       "      <td>NaN</td>\n",
       "      <td>Europe</td>\n",
       "    </tr>\n",
       "  </tbody>\n",
       "</table>\n",
       "<p>5 rows × 33 columns</p>\n",
       "</div>"
      ],
      "text/plain": [
       "          date location  total_cases  new_cases  new_deaths  \\\n",
       "989 2020-03-09  Albania          2.0        2.0         0.0   \n",
       "990 2020-03-10  Albania          6.0        4.0         0.0   \n",
       "991 2020-03-11  Albania         10.0        4.0         0.0   \n",
       "992 2020-03-12  Albania         11.0        1.0         1.0   \n",
       "993 2020-03-13  Albania         23.0       12.0         0.0   \n",
       "\n",
       "     total_cases_per_million  new_cases_per_million  new_deaths_per_million  \\\n",
       "989                    0.695                  0.695                   0.000   \n",
       "990                    2.085                  1.390                   0.000   \n",
       "991                    3.475                  1.390                   0.000   \n",
       "992                    3.822                  0.347                   0.347   \n",
       "993                    7.992                  4.170                   0.000   \n",
       "\n",
       "     stringency_index  new_cases_smoothed  ...  positive_rate  hosp_patients  \\\n",
       "989             36.11                 NaN  ...            NaN            NaN   \n",
       "990             41.67                 NaN  ...            NaN            NaN   \n",
       "991             51.85                 NaN  ...            NaN            NaN   \n",
       "992             51.85                 NaN  ...            NaN            NaN   \n",
       "993             78.70                 NaN  ...            NaN            NaN   \n",
       "\n",
       "     hosp_patients_per_million  icu_patients  icu_patients_per_million  \\\n",
       "989                        NaN           NaN                       NaN   \n",
       "990                        NaN           NaN                       NaN   \n",
       "991                        NaN           NaN                       NaN   \n",
       "992                        NaN           NaN                       NaN   \n",
       "993                        NaN           NaN                       NaN   \n",
       "\n",
       "     weekly_hosp_admissions  weekly_hosp_admissions_per_million  \\\n",
       "989                     NaN                                 NaN   \n",
       "990                     NaN                                 NaN   \n",
       "991                     NaN                                 NaN   \n",
       "992                     NaN                                 NaN   \n",
       "993                     NaN                                 NaN   \n",
       "\n",
       "     weekly_icu_admissions  weekly_icu_admissions_per_million continent  \n",
       "989                    NaN                                NaN    Europe  \n",
       "990                    NaN                                NaN    Europe  \n",
       "991                    NaN                                NaN    Europe  \n",
       "992                    NaN                                NaN    Europe  \n",
       "993                    NaN                                NaN    Europe  \n",
       "\n",
       "[5 rows x 33 columns]"
      ]
     },
     "execution_count": 23,
     "metadata": {},
     "output_type": "execute_result"
    }
   ],
   "source": [
    "df_cont_filter = combined_df[combined_df['continent'] == selected_continent]\n",
    "df_cont_filter.head()"
   ]
  },
  {
   "cell_type": "code",
   "execution_count": 24,
   "metadata": {},
   "outputs": [
    {
     "data": {
      "image/png": "[encoded data removed]",
      "text/plain": [
       "<Figure size 936x432 with 1 Axes>"
      ]
     },
     "metadata": {
      "needs_background": "light"
     },
     "output_type": "display_data"
    }
   ],
   "source": [
    "plt.figure(figsize=(13,6))\n",
    "plt.plot('date','total_cases', data= df_cont_filter, label = 'Other Countries in {} Continent'.format(continent))\n",
    "plt.plot('date', 'total_cases', data = filtered_df, label = '{}'.format(country_input))\n",
    "plt.legend()\n",
    "plt.show()"
   ]
  },
  {
   "cell_type": "code",
   "execution_count": 33,
   "metadata": {},
   "outputs": [
    {
     "data": {
      "text/plain": [
       "'2020-11-03'"
      ]
     },
     "execution_count": 33,
     "metadata": {},
     "output_type": "execute_result"
    }
   ],
   "source": [
    "str(today)"
   ]
  },
  {
   "cell_type": "code",
   "execution_count": 52,
   "metadata": {},
   "outputs": [
    {
     "data": {
      "text/html": [
       "<div>\n",
       "<style scoped>\n",
       "    .dataframe tbody tr th:only-of-type {\n",
       "        vertical-align: middle;\n",
       "    }\n",
       "\n",
       "    .dataframe tbody tr th {\n",
       "        vertical-align: top;\n",
       "    }\n",
       "\n",
       "    .dataframe thead th {\n",
       "        text-align: right;\n",
       "    }\n",
       "</style>\n",
       "<table border=\"1\" class=\"dataframe\">\n",
       "  <thead>\n",
       "    <tr style=\"text-align: right;\">\n",
       "      <th></th>\n",
       "      <th>date</th>\n",
       "      <th>location</th>\n",
       "      <th>total_cases</th>\n",
       "      <th>rank</th>\n",
       "    </tr>\n",
       "  </thead>\n",
       "  <tbody>\n",
       "    <tr>\n",
       "      <th>50890</th>\n",
       "      <td>2020-11-03</td>\n",
       "      <td>United States</td>\n",
       "      <td>9291245.0</td>\n",
       "      <td>1.0</td>\n",
       "    </tr>\n",
       "    <tr>\n",
       "      <th>23497</th>\n",
       "      <td>2020-11-03</td>\n",
       "      <td>India</td>\n",
       "      <td>8267623.0</td>\n",
       "      <td>2.0</td>\n",
       "    </tr>\n",
       "    <tr>\n",
       "      <th>7267</th>\n",
       "      <td>2020-11-03</td>\n",
       "      <td>Brazil</td>\n",
       "      <td>5554206.0</td>\n",
       "      <td>3.0</td>\n",
       "    </tr>\n",
       "    <tr>\n",
       "      <th>42291</th>\n",
       "      <td>2020-11-03</td>\n",
       "      <td>Russia</td>\n",
       "      <td>1655038.0</td>\n",
       "      <td>4.0</td>\n",
       "    </tr>\n",
       "    <tr>\n",
       "      <th>17369</th>\n",
       "      <td>2020-11-03</td>\n",
       "      <td>France</td>\n",
       "      <td>1466433.0</td>\n",
       "      <td>5.0</td>\n",
       "    </tr>\n",
       "    <tr>\n",
       "      <th>...</th>\n",
       "      <td>...</td>\n",
       "      <td>...</td>\n",
       "      <td>...</td>\n",
       "      <td>...</td>\n",
       "    </tr>\n",
       "    <tr>\n",
       "      <th>17060</th>\n",
       "      <td>2020-11-03</td>\n",
       "      <td>Falkland Islands</td>\n",
       "      <td>13.0</td>\n",
       "      <td>204.5</td>\n",
       "    </tr>\n",
       "    <tr>\n",
       "      <th>43585</th>\n",
       "      <td>2020-11-03</td>\n",
       "      <td>Solomon Islands</td>\n",
       "      <td>8.0</td>\n",
       "      <td>206.0</td>\n",
       "    </tr>\n",
       "    <tr>\n",
       "      <th>988</th>\n",
       "      <td>2020-11-03</td>\n",
       "      <td>Anguilla</td>\n",
       "      <td>3.0</td>\n",
       "      <td>207.0</td>\n",
       "    </tr>\n",
       "    <tr>\n",
       "      <th>32663</th>\n",
       "      <td>2020-11-03</td>\n",
       "      <td>Marshall Islands</td>\n",
       "      <td>2.0</td>\n",
       "      <td>208.0</td>\n",
       "    </tr>\n",
       "    <tr>\n",
       "      <th>52599</th>\n",
       "      <td>2020-11-03</td>\n",
       "      <td>Wallis and Futuna</td>\n",
       "      <td>1.0</td>\n",
       "      <td>209.0</td>\n",
       "    </tr>\n",
       "  </tbody>\n",
       "</table>\n",
       "<p>209 rows × 4 columns</p>\n",
       "</div>"
      ],
      "text/plain": [
       "            date           location  total_cases   rank\n",
       "50890 2020-11-03      United States    9291245.0    1.0\n",
       "23497 2020-11-03              India    8267623.0    2.0\n",
       "7267  2020-11-03             Brazil    5554206.0    3.0\n",
       "42291 2020-11-03             Russia    1655038.0    4.0\n",
       "17369 2020-11-03             France    1466433.0    5.0\n",
       "...          ...                ...          ...    ...\n",
       "17060 2020-11-03   Falkland Islands         13.0  204.5\n",
       "43585 2020-11-03    Solomon Islands          8.0  206.0\n",
       "988   2020-11-03           Anguilla          3.0  207.0\n",
       "32663 2020-11-03   Marshall Islands          2.0  208.0\n",
       "52599 2020-11-03  Wallis and Futuna          1.0  209.0\n",
       "\n",
       "[209 rows x 4 columns]"
      ]
     },
     "execution_count": 52,
     "metadata": {},
     "output_type": "execute_result"
    }
   ],
   "source": [
    "order_case_list = ['date', 'location', 'total_cases']\n",
    "ordered_cases = combined_df[combined_df['date'] == str(today)][order_case_list]\n",
    "ordered_cases = ordered_cases[ordered_cases['location'] != 'World'].sort_values('total_cases',ascending = False)\n",
    "ordered_cases['rank'] = ordered_cases['total_cases'].rank(ascending = False)\n",
    "ordered_cases"
   ]
  },
  {
   "cell_type": "code",
   "execution_count": 60,
   "metadata": {},
   "outputs": [
    {
     "data": {
      "text/html": [
       "<div>\n",
       "<style scoped>\n",
       "    .dataframe tbody tr th:only-of-type {\n",
       "        vertical-align: middle;\n",
       "    }\n",
       "\n",
       "    .dataframe tbody tr th {\n",
       "        vertical-align: top;\n",
       "    }\n",
       "\n",
       "    .dataframe thead th {\n",
       "        text-align: right;\n",
       "    }\n",
       "</style>\n",
       "<table border=\"1\" class=\"dataframe\">\n",
       "  <thead>\n",
       "    <tr style=\"text-align: right;\">\n",
       "      <th></th>\n",
       "      <th>date</th>\n",
       "      <th>new_deaths</th>\n",
       "    </tr>\n",
       "  </thead>\n",
       "  <tbody>\n",
       "    <tr>\n",
       "      <th>15552</th>\n",
       "      <td>2020-05-25</td>\n",
       "      <td>-1918.0</td>\n",
       "    </tr>\n",
       "    <tr>\n",
       "      <th>15631</th>\n",
       "      <td>2020-08-12</td>\n",
       "      <td>-2.0</td>\n",
       "    </tr>\n",
       "    <tr>\n",
       "      <th>15406</th>\n",
       "      <td>2019-12-31</td>\n",
       "      <td>0.0</td>\n",
       "    </tr>\n",
       "    <tr>\n",
       "      <th>15606</th>\n",
       "      <td>2020-07-18</td>\n",
       "      <td>0.0</td>\n",
       "    </tr>\n",
       "    <tr>\n",
       "      <th>15600</th>\n",
       "      <td>2020-07-12</td>\n",
       "      <td>0.0</td>\n",
       "    </tr>\n",
       "    <tr>\n",
       "      <th>...</th>\n",
       "      <td>...</td>\n",
       "      <td>...</td>\n",
       "    </tr>\n",
       "    <tr>\n",
       "      <th>15498</th>\n",
       "      <td>2020-04-01</td>\n",
       "      <td>849.0</td>\n",
       "    </tr>\n",
       "    <tr>\n",
       "      <th>15499</th>\n",
       "      <td>2020-04-02</td>\n",
       "      <td>864.0</td>\n",
       "    </tr>\n",
       "    <tr>\n",
       "      <th>15501</th>\n",
       "      <td>2020-04-04</td>\n",
       "      <td>932.0</td>\n",
       "    </tr>\n",
       "    <tr>\n",
       "      <th>15500</th>\n",
       "      <td>2020-04-03</td>\n",
       "      <td>950.0</td>\n",
       "    </tr>\n",
       "    <tr>\n",
       "      <th>15577</th>\n",
       "      <td>2020-06-19</td>\n",
       "      <td>1179.0</td>\n",
       "    </tr>\n",
       "  </tbody>\n",
       "</table>\n",
       "<p>308 rows × 2 columns</p>\n",
       "</div>"
      ],
      "text/plain": [
       "            date  new_deaths\n",
       "15552 2020-05-25     -1918.0\n",
       "15631 2020-08-12        -2.0\n",
       "15406 2019-12-31         0.0\n",
       "15606 2020-07-18         0.0\n",
       "15600 2020-07-12         0.0\n",
       "...          ...         ...\n",
       "15498 2020-04-01       849.0\n",
       "15499 2020-04-02       864.0\n",
       "15501 2020-04-04       932.0\n",
       "15500 2020-04-03       950.0\n",
       "15577 2020-06-19      1179.0\n",
       "\n",
       "[308 rows x 2 columns]"
      ]
     },
     "execution_count": 60,
     "metadata": {},
     "output_type": "execute_result"
    }
   ],
   "source": [
    "combined_df[combined_df['location'] == 'Spain'][['date', 'new_deaths']].sort_values('new_deaths')"
   ]
  }
 ],
 "metadata": {
  "kernelspec": {
   "display_name": "Python 3",
   "language": "python",
   "name": "python3"
  },
  "language_info": {
   "codemirror_mode": {
    "name": "ipython",
    "version": 3
   },
   "file_extension": ".py",
   "mimetype": "text/x-python",
   "name": "python",
   "nbconvert_exporter": "python",
   "pygments_lexer": "ipython3",
   "version": "3.8.3"
  },
  "toc": {
   "base_numbering": 1,
   "nav_menu": {},
   "number_sections": true,
   "sideBar": true,
   "skip_h1_title": false,
   "title_cell": "Table of Contents",
   "title_sidebar": "Contents",
   "toc_cell": false,
   "toc_position": {
    "height": "calc(100% - 180px)",
    "left": "10px",
    "top": "150px",
    "width": "166px"
   },
   "toc_section_display": true,
   "toc_window_display": true
  }
 },
 "nbformat": 4,
 "nbformat_minor": 4
}
